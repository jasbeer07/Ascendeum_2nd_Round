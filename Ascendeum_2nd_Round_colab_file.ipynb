{
  "nbformat": 4,
  "nbformat_minor": 0,
  "metadata": {
    "colab": {
      "provenance": []
    },
    "kernelspec": {
      "name": "python3",
      "display_name": "Python 3"
    },
    "language_info": {
      "name": "python"
    }
  },
  "cells": [
    {
      "cell_type": "code",
      "execution_count": 1,
      "metadata": {
        "colab": {
          "base_uri": "https://localhost:8080/"
        },
        "id": "GeBuMFwJVcT5",
        "outputId": "611d2af4-c741-447d-f8b2-5d54cc8de40b"
      },
      "outputs": [
        {
          "output_type": "stream",
          "name": "stdout",
          "text": [
            "               win_rate  total_wins  total_requests\n",
            "bidder                                             \n",
            "undertone     59.615385        62.0             104\n",
            "teads         47.428571       332.0             700\n",
            "pulsepoint    37.172775        71.0             191\n",
            "sharethrough  32.831325       109.0             332\n",
            "onemobile     28.576669       779.0            2726\n",
            "rhythmone     25.190840       165.0             655\n",
            "appnexus      21.445783       178.0             830\n",
            "criteo        18.861993       600.0            3181\n",
            "emx_digital   17.048346        67.0             393\n",
            "33across      16.704289       148.0             886\n",
            "pubmatic      12.933619       302.0            2335\n",
            "medianet      10.367762       265.0            2556\n",
            "openx          7.639485        89.0            1165\n",
            "triplelift     7.505071       111.0            1479\n",
            "ix             6.227466       190.0            3051\n",
            "rubicon        5.670103        33.0             582\n",
            "sovrn          3.910615        14.0             358\n",
            "               0.000000         0.0          261724\n"
          ]
        }
      ],
      "source": [
        "import pandas as pd\n",
        "\n",
        "df = pd.read_csv('analysis_id(in).csv')\n",
        "\n",
        "\n",
        "df['win_count'] = df['win_count'].fillna(0)\n",
        "\n",
        "\n",
        "df['total_wins'] = df['prebid_win_count'] + df['win_count']\n",
        "\n",
        "\n",
        "grouped = df.groupby('bidder').agg(\n",
        "    total_wins=('total_wins', 'sum'),\n",
        "    total_requests=('request_count', 'sum')\n",
        ")\n",
        "\n",
        "\n",
        "grouped['win_rate'] = (grouped['total_wins'] / grouped['total_requests']) * 100\n",
        "\n",
        "\n",
        "grouped = grouped.sort_values(by='win_rate', ascending=False)\n",
        "\n",
        "\n",
        "print(grouped[['win_rate', 'total_wins', 'total_requests']])"
      ]
    },
    {
      "cell_type": "code",
      "source": [],
      "metadata": {
        "id": "kPma1mzhVk9E"
      },
      "execution_count": null,
      "outputs": []
    }
  ]
}